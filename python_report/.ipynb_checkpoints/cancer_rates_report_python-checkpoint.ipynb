{
 "cells": [
  {
   "cell_type": "markdown",
   "id": "dd2a1a33",
   "metadata": {},
   "source": [
    "# Cancer Rates In Tayside Region: Report (Python Version)"
   ]
  },
  {
   "cell_type": "markdown",
   "id": "f95adf44",
   "metadata": {},
   "source": [
    "### Import Libraries"
   ]
  },
  {
   "cell_type": "code",
   "execution_count": 50,
   "id": "c37e166f",
   "metadata": {},
   "outputs": [],
   "source": [
    "import pandas as pd\n",
    "import janitor\n",
    "import matplotlib.pyplot as plt\n",
    "import seaborn as sns"
   ]
  },
  {
   "cell_type": "markdown",
   "id": "b3e6a8ba",
   "metadata": {},
   "source": [
    "### Read In Data"
   ]
  },
  {
   "cell_type": "code",
   "execution_count": 4,
   "id": "56b651dc",
   "metadata": {},
   "outputs": [],
   "source": [
    "cancer_incidence = pd.read_csv(\"data/cancer_incidence_by_health_board.csv\").clean_names()"
   ]
  },
  {
   "cell_type": "markdown",
   "id": "39208479",
   "metadata": {},
   "source": [
    "### Filter Data For Borders Only"
   ]
  },
  {
   "cell_type": "code",
   "execution_count": 6,
   "id": "0399711a",
   "metadata": {
    "scrolled": true
   },
   "outputs": [],
   "source": [
    "cancer_incidence_borders = cancer_incidence[cancer_incidence[\"hb\"] == \"S08000016\"].copy()"
   ]
  },
  {
   "cell_type": "markdown",
   "id": "ea4a194a",
   "metadata": {},
   "source": [
    "### Overview"
   ]
  },
  {
   "cell_type": "markdown",
   "id": "a896bdf8",
   "metadata": {},
   "source": [
    "Across all ages and genders, the 3 forms of cancer with the highest number of incidences in NHS Borders between 1997-2021 are:"
   ]
  },
  {
   "cell_type": "code",
   "execution_count": 42,
   "id": "ffc28911",
   "metadata": {},
   "outputs": [
    {
     "data": {
      "text/html": [
       "<div>\n",
       "<style scoped>\n",
       "    .dataframe tbody tr th:only-of-type {\n",
       "        vertical-align: middle;\n",
       "    }\n",
       "\n",
       "    .dataframe tbody tr th {\n",
       "        vertical-align: top;\n",
       "    }\n",
       "\n",
       "    .dataframe thead th {\n",
       "        text-align: right;\n",
       "    }\n",
       "</style>\n",
       "<table border=\"1\" class=\"dataframe\">\n",
       "  <thead>\n",
       "    <tr style=\"text-align: right;\">\n",
       "      <th></th>\n",
       "      <th>cancersite</th>\n",
       "      <th>total_incidences</th>\n",
       "    </tr>\n",
       "  </thead>\n",
       "  <tbody>\n",
       "    <tr>\n",
       "      <th>0</th>\n",
       "      <td>Non-melanoma skin cancer</td>\n",
       "      <td>6174</td>\n",
       "    </tr>\n",
       "    <tr>\n",
       "      <th>1</th>\n",
       "      <td>Basal cell carcinoma of the skin</td>\n",
       "      <td>4049</td>\n",
       "    </tr>\n",
       "    <tr>\n",
       "      <th>2</th>\n",
       "      <td>Breast</td>\n",
       "      <td>2614</td>\n",
       "    </tr>\n",
       "  </tbody>\n",
       "</table>\n",
       "</div>"
      ],
      "text/plain": [
       "                         cancersite  total_incidences\n",
       "0          Non-melanoma skin cancer              6174\n",
       "1  Basal cell carcinoma of the skin              4049\n",
       "2                            Breast              2614"
      ]
     },
     "execution_count": 42,
     "metadata": {},
     "output_type": "execute_result"
    }
   ],
   "source": [
    "(cancer_incidence_borders[~(cancer_incidence_borders[\"cancersite\"] == \"All cancer types\") \n",
    "                         & (cancer_incidence_borders[\"sex\"] == \"All\")]\n",
    ".groupby(\"cancersite\")\n",
    ".agg(total_incidences=(\"incidencesallages\", \"sum\"))\n",
    ".sort_values(\"total_incidences\", ascending=False)\n",
    ".head(3)\n",
    ".reset_index()\n",
    ")"
   ]
  },
  {
   "cell_type": "markdown",
   "id": "1b92cdd0",
   "metadata": {},
   "source": [
    "*NB - Basal cell carcinoma of the skin is form form of Non-melanoma skin cancer (NHS Inform, 2022)*"
   ]
  },
  {
   "cell_type": "markdown",
   "id": "81bf1136",
   "metadata": {},
   "source": [
    "For the purposes of clarity, this report does not seek to provide an exhaustive overview of cancer incidences and rates within NHS Borders. Instead, it aims to provide further understanding by focussing on one trend which it is believed will require consideration for effective cancer service planning within NHS Borders.\n",
    "\n",
    "To do this, the report focuses on incidences of breast cancer in woman, which have the 3rd overall largest number of incidences in NHS Borders between 1997 and 2021. However, additional analysis on Non-melanoma skin cancer which has the highest number of overall incidences in NHS Borders is also availble."
   ]
  },
  {
   "cell_type": "markdown",
   "id": "bcdba594",
   "metadata": {},
   "source": [
    "## Breast Cancer"
   ]
  },
  {
   "cell_type": "markdown",
   "id": "c26bdd15",
   "metadata": {},
   "source": [
    "### Context"
   ]
  },
  {
   "cell_type": "markdown",
   "id": "15743616",
   "metadata": {},
   "source": [
    "In the available date, among females in NHS Borders, breast cancer has the highest number of incidences, highest mean crude rate and highest mean European age-standardised rate (EASR)."
   ]
  },
  {
   "cell_type": "markdown",
   "id": "221f989f",
   "metadata": {},
   "source": [
    "*Incidences:*"
   ]
  },
  {
   "cell_type": "code",
   "execution_count": 43,
   "id": "e81abe2e",
   "metadata": {},
   "outputs": [
    {
     "data": {
      "text/html": [
       "<div>\n",
       "<style scoped>\n",
       "    .dataframe tbody tr th:only-of-type {\n",
       "        vertical-align: middle;\n",
       "    }\n",
       "\n",
       "    .dataframe tbody tr th {\n",
       "        vertical-align: top;\n",
       "    }\n",
       "\n",
       "    .dataframe thead th {\n",
       "        text-align: right;\n",
       "    }\n",
       "</style>\n",
       "<table border=\"1\" class=\"dataframe\">\n",
       "  <thead>\n",
       "    <tr style=\"text-align: right;\">\n",
       "      <th></th>\n",
       "      <th>cancersite</th>\n",
       "      <th>total_incidences</th>\n",
       "    </tr>\n",
       "  </thead>\n",
       "  <tbody>\n",
       "    <tr>\n",
       "      <th>0</th>\n",
       "      <td>Breast</td>\n",
       "      <td>2598</td>\n",
       "    </tr>\n",
       "    <tr>\n",
       "      <th>1</th>\n",
       "      <td>Non-melanoma skin cancer</td>\n",
       "      <td>2519</td>\n",
       "    </tr>\n",
       "    <tr>\n",
       "      <th>2</th>\n",
       "      <td>Basal cell carcinoma of the skin</td>\n",
       "      <td>1882</td>\n",
       "    </tr>\n",
       "  </tbody>\n",
       "</table>\n",
       "</div>"
      ],
      "text/plain": [
       "                         cancersite  total_incidences\n",
       "0                            Breast              2598\n",
       "1          Non-melanoma skin cancer              2519\n",
       "2  Basal cell carcinoma of the skin              1882"
      ]
     },
     "execution_count": 43,
     "metadata": {},
     "output_type": "execute_result"
    }
   ],
   "source": [
    "(cancer_incidence_borders[~(cancer_incidence_borders[\"cancersite\"] == \"All cancer types\") \n",
    "                         & (cancer_incidence_borders[\"sex\"] == \"Females\")]\n",
    ".groupby(\"cancersite\")\n",
    ".agg(total_incidences=(\"incidencesallages\", \"sum\"))\n",
    ".sort_values(\"total_incidences\", ascending=False)\n",
    ".head(3)\n",
    ".reset_index()\n",
    ")"
   ]
  },
  {
   "cell_type": "markdown",
   "id": "307e4dd3",
   "metadata": {},
   "source": [
    "*Mean Crude Rate:*"
   ]
  },
  {
   "cell_type": "code",
   "execution_count": 48,
   "id": "56246ccc",
   "metadata": {},
   "outputs": [
    {
     "data": {
      "text/html": [
       "<div>\n",
       "<style scoped>\n",
       "    .dataframe tbody tr th:only-of-type {\n",
       "        vertical-align: middle;\n",
       "    }\n",
       "\n",
       "    .dataframe tbody tr th {\n",
       "        vertical-align: top;\n",
       "    }\n",
       "\n",
       "    .dataframe thead th {\n",
       "        text-align: right;\n",
       "    }\n",
       "</style>\n",
       "<table border=\"1\" class=\"dataframe\">\n",
       "  <thead>\n",
       "    <tr style=\"text-align: right;\">\n",
       "      <th></th>\n",
       "      <th>cancersite</th>\n",
       "      <th>mean_cruderate</th>\n",
       "    </tr>\n",
       "  </thead>\n",
       "  <tbody>\n",
       "    <tr>\n",
       "      <th>0</th>\n",
       "      <td>Breast</td>\n",
       "      <td>179.934831</td>\n",
       "    </tr>\n",
       "    <tr>\n",
       "      <th>1</th>\n",
       "      <td>Non-melanoma skin cancer</td>\n",
       "      <td>174.281148</td>\n",
       "    </tr>\n",
       "    <tr>\n",
       "      <th>2</th>\n",
       "      <td>Basal cell carcinoma of the skin</td>\n",
       "      <td>130.198691</td>\n",
       "    </tr>\n",
       "  </tbody>\n",
       "</table>\n",
       "</div>"
      ],
      "text/plain": [
       "                         cancersite  mean_cruderate\n",
       "0                            Breast      179.934831\n",
       "1          Non-melanoma skin cancer      174.281148\n",
       "2  Basal cell carcinoma of the skin      130.198691"
      ]
     },
     "execution_count": 48,
     "metadata": {},
     "output_type": "execute_result"
    }
   ],
   "source": [
    "(cancer_incidence_borders[~(cancer_incidence_borders[\"cancersite\"] == \"All cancer types\") \n",
    "                         & (cancer_incidence_borders[\"sex\"] == \"Females\")]\n",
    ".groupby(\"cancersite\")\n",
    ".agg(mean_cruderate=(\"cruderate\", \"mean\"))\n",
    ".sort_values(\"mean_cruderate\", ascending=False)\n",
    ".head(3)\n",
    ".reset_index()\n",
    ")"
   ]
  },
  {
   "cell_type": "markdown",
   "id": "eac57326",
   "metadata": {},
   "source": [
    "*Mean EASR:*"
   ]
  },
  {
   "cell_type": "code",
   "execution_count": 49,
   "id": "3ff132fa",
   "metadata": {},
   "outputs": [
    {
     "data": {
      "text/html": [
       "<div>\n",
       "<style scoped>\n",
       "    .dataframe tbody tr th:only-of-type {\n",
       "        vertical-align: middle;\n",
       "    }\n",
       "\n",
       "    .dataframe tbody tr th {\n",
       "        vertical-align: top;\n",
       "    }\n",
       "\n",
       "    .dataframe thead th {\n",
       "        text-align: right;\n",
       "    }\n",
       "</style>\n",
       "<table border=\"1\" class=\"dataframe\">\n",
       "  <thead>\n",
       "    <tr style=\"text-align: right;\">\n",
       "      <th></th>\n",
       "      <th>cancersite</th>\n",
       "      <th>mean_easr</th>\n",
       "    </tr>\n",
       "  </thead>\n",
       "  <tbody>\n",
       "    <tr>\n",
       "      <th>0</th>\n",
       "      <td>Breast</td>\n",
       "      <td>161.363978</td>\n",
       "    </tr>\n",
       "    <tr>\n",
       "      <th>1</th>\n",
       "      <td>Non-melanoma skin cancer</td>\n",
       "      <td>150.399554</td>\n",
       "    </tr>\n",
       "    <tr>\n",
       "      <th>2</th>\n",
       "      <td>Basal cell carcinoma of the skin</td>\n",
       "      <td>113.917832</td>\n",
       "    </tr>\n",
       "  </tbody>\n",
       "</table>\n",
       "</div>"
      ],
      "text/plain": [
       "                         cancersite   mean_easr\n",
       "0                            Breast  161.363978\n",
       "1          Non-melanoma skin cancer  150.399554\n",
       "2  Basal cell carcinoma of the skin  113.917832"
      ]
     },
     "execution_count": 49,
     "metadata": {},
     "output_type": "execute_result"
    }
   ],
   "source": [
    "(cancer_incidence_borders[~(cancer_incidence_borders[\"cancersite\"] == \"All cancer types\") \n",
    "                         & (cancer_incidence_borders[\"sex\"] == \"Females\")]\n",
    ".groupby(\"cancersite\")\n",
    ".agg(mean_easr=(\"easr\", \"mean\"))\n",
    ".sort_values(\"mean_easr\", ascending=False)\n",
    ".head(3)\n",
    ".reset_index()\n",
    ")"
   ]
  },
  {
   "cell_type": "markdown",
   "id": "cb18b4ec",
   "metadata": {},
   "source": [
    "## Visualisations"
   ]
  },
  {
   "cell_type": "code",
   "execution_count": 59,
   "id": "7f83902a",
   "metadata": {},
   "outputs": [],
   "source": [
    "cancer_site_list = [\"Breast\", \"All cancer types\"]"
   ]
  },
  {
   "cell_type": "code",
   "execution_count": 62,
   "id": "d94b558d",
   "metadata": {},
   "outputs": [],
   "source": [
    "ci_borders_female = cancer_incidence_borders[(cancer_incidence_borders[\"cancersite\"].isin(cancer_site_list))\n",
    "                         & (cancer_incidence_borders[\"sex\"] == \"Females\")].copy()"
   ]
  },
  {
   "cell_type": "code",
   "execution_count": 77,
   "id": "c12ed33b",
   "metadata": {},
   "outputs": [
    {
     "data": {
      "image/png": "[encoded data removed]",
      "text/plain": [
       "<Figure size 640x480 with 1 Axes>"
      ]
     },
     "metadata": {},
     "output_type": "display_data"
    }
   ],
   "source": [
    "sns.lineplot(data=ci_borders_female, x='year', y='incidencesallages', hue='cancersite', linewidth=1.5)\n",
    "#sns.scatterplot(data=ci_borders_female, x='year', y='incidencesallages', hue='cancersite', s=50)\n",
    "plt.xlim(1997, 2021)  # Set x-axis limits\n",
    "plt.ylim(0, 500)  # Set y-axis limits\n",
    "plt.xticks([1997, 1999, 2001, 2003, 2005, 2007, 2009, 2011, 2013, 2015, 2017, 2019, 2021])\n",
    "plt.xlabel(\"Year\")\n",
    "plt.ylabel(\"Incidences\")\n",
    "plt.title(\"All Female Cancer Incidences vs. Female Breast Cancer Incidences: NHS Borders: 1997-2021\")\n",
    "plt.xticks(rotation=45, ha=\"right\")\n",
    "plt.legend(bbox_to_anchor=(1.05, 1), loc='upper left', borderaxespad=0)\n",
    "\n",
    "plt.show()"
   ]
  },
  {
   "cell_type": "markdown",
   "id": "cd0586b0",
   "metadata": {},
   "source": [
    "**What does this visualisation tell us?**"
   ]
  },
  {
   "cell_type": "markdown",
   "id": "8152984c",
   "metadata": {},
   "source": [
    "- That breast cancer incidences in females are driving the trend of all cancer type incidences.\n",
    "- That there appears to be a historic trend in breast cancer incidences where they peak approximately every 3 years. The average percentage increase in incidences from the previous year at the 7 peaks highlighted is **94%**. \n",
    "- That this trend is less evident in 2020 when we may have expected it, indeed there was only a **9%** increase from 2020.\n",
    "- There is however an increase of **39%** between 2020 and 2021."
   ]
  }
 ],
 "metadata": {
  "kernelspec": {
   "display_name": "Python 3 (ipykernel)",
   "language": "python",
   "name": "python3"
  },
  "language_info": {
   "codemirror_mode": {
    "name": "ipython",
    "version": 3
   },
   "file_extension": ".py",
   "mimetype": "text/x-python",
   "name": "python",
   "nbconvert_exporter": "python",
   "pygments_lexer": "ipython3",
   "version": "3.9.13"
  }
 },
 "nbformat": 4,
 "nbformat_minor": 5
}
