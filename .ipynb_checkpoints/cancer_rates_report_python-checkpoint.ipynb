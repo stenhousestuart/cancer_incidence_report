{
 "cells": [
  {
   "cell_type": "markdown",
   "id": "dd2a1a33",
   "metadata": {},
   "source": [
    "# Breast Cancer Incidence Report (Python Version)"
   ]
  },
  {
   "cell_type": "markdown",
   "id": "5c5cf031",
   "metadata": {},
   "source": [
    "*Disclaimer: This report has been written for the authors learning purposes only and uses open data from Public Health Scotland under the UK Open Government Licence (OGL)*"
   ]
  },
  {
   "cell_type": "markdown",
   "id": "58dea6cd",
   "metadata": {},
   "source": [
    "## Aim"
   ]
  },
  {
   "cell_type": "markdown",
   "id": "67e71652",
   "metadata": {},
   "source": [
    "To inform the planning and provision of cancer treatment services by analysing breast cancer incidence data reported by NHS Borders."
   ]
  },
  {
   "cell_type": "markdown",
   "id": "e3ae7193",
   "metadata": {},
   "source": [
    "## Introduction"
   ]
  },
  {
   "cell_type": "markdown",
   "id": "f187b7aa",
   "metadata": {},
   "source": [
    "Between 1997-2021, breast cancer had the third highest number of incidences of any cancer type reported by NHS Borders. In this period, breast cancer in males made up less than 1% of total breast cancer incidences and this report will therefor focus on incidences among females."
   ]
  },
  {
   "cell_type": "markdown",
   "id": "f95adf44",
   "metadata": {},
   "source": [
    "### Import Libraries"
   ]
  },
  {
   "cell_type": "code",
   "execution_count": 136,
   "id": "c37e166f",
   "metadata": {},
   "outputs": [],
   "source": [
    "import pandas as pd\n",
    "import janitor\n",
    "import matplotlib.pyplot as plt\n",
    "import seaborn as sns\n",
    "import plotly.express as px"
   ]
  },
  {
   "cell_type": "markdown",
   "id": "b3e6a8ba",
   "metadata": {},
   "source": [
    "### Read In Data"
   ]
  },
  {
   "cell_type": "code",
   "execution_count": 2,
   "id": "56b651dc",
   "metadata": {},
   "outputs": [],
   "source": [
    "cancer_incidence = pd.read_csv(\"data/cancer_incidence_by_health_board.csv\").clean_names()"
   ]
  },
  {
   "cell_type": "code",
   "execution_count": 53,
   "id": "11f71a58",
   "metadata": {},
   "outputs": [],
   "source": [
    "five_year_summary = pd.read_csv(\"data/five_year_cancer_incidence_summary.csv\").clean_names()"
   ]
  },
  {
   "cell_type": "code",
   "execution_count": 63,
   "id": "5ff5e31b",
   "metadata": {},
   "outputs": [],
   "source": [
    "geography_codes = pd.read_csv(\"data/geography_codes_and_labels.csv\").clean_names()"
   ]
  },
  {
   "cell_type": "markdown",
   "id": "39208479",
   "metadata": {},
   "source": [
    "### Filter Data For Borders Only"
   ]
  },
  {
   "cell_type": "code",
   "execution_count": 3,
   "id": "0399711a",
   "metadata": {
    "scrolled": true
   },
   "outputs": [],
   "source": [
    "cancer_incidence_borders = cancer_incidence[cancer_incidence[\"hb\"] == \"S08000016\"].copy()"
   ]
  },
  {
   "cell_type": "markdown",
   "id": "ea4a194a",
   "metadata": {},
   "source": [
    "### Total Cancer Incidences by Cancer Site"
   ]
  },
  {
   "cell_type": "markdown",
   "id": "a896bdf8",
   "metadata": {},
   "source": [
    "Between 1997-2021, breast cancer had the third highest number of incidences of any cancer type reported by NHS Borders. In this period, breast cancer in males made up less than 1% of total breast cancer incidences and this report will therefor focus on incidences among females."
   ]
  },
  {
   "cell_type": "code",
   "execution_count": 32,
   "id": "bf69537e",
   "metadata": {},
   "outputs": [],
   "source": [
    "summarised_data = cancer_incidence_borders[~(cancer_incidence_borders[\"cancersite\"] == \"All cancer types\") \n",
    "                         & (cancer_incidence_borders[\"sex\"] == \"All\")].groupby(\"cancersite\").agg(total_incidences=(\"incidencesallages\", \"sum\")).copy()"
   ]
  },
  {
   "cell_type": "code",
   "execution_count": 122,
   "id": "d857fbae",
   "metadata": {},
   "outputs": [
    {
     "data": {
      "text/html": [
       "<style type=\"text/css\">\n",
       "</style>\n",
       "<table id=\"T_f5cfb\">\n",
       "  <thead>\n",
       "    <tr>\n",
       "      <th id=\"T_f5cfb_level0_col0\" class=\"col_heading level0 col0\" >Cancer Site</th>\n",
       "      <th id=\"T_f5cfb_level0_col1\" class=\"col_heading level0 col1\" >Total Incidences</th>\n",
       "    </tr>\n",
       "  </thead>\n",
       "  <tbody>\n",
       "    <tr>\n",
       "      <td id=\"T_f5cfb_row0_col0\" class=\"data row0 col0\" >Non-melanoma skin cancer</td>\n",
       "      <td id=\"T_f5cfb_row0_col1\" class=\"data row0 col1\" >6174</td>\n",
       "    </tr>\n",
       "    <tr>\n",
       "      <td id=\"T_f5cfb_row1_col0\" class=\"data row1 col0\" >Basal cell carcinoma of the skin</td>\n",
       "      <td id=\"T_f5cfb_row1_col1\" class=\"data row1 col1\" >4049</td>\n",
       "    </tr>\n",
       "    <tr>\n",
       "      <td id=\"T_f5cfb_row2_col0\" class=\"data row2 col0\" >Breast</td>\n",
       "      <td id=\"T_f5cfb_row2_col1\" class=\"data row2 col1\" >2614</td>\n",
       "    </tr>\n",
       "    <tr>\n",
       "      <td id=\"T_f5cfb_row3_col0\" class=\"data row3 col0\" >Trachea, bronchus and lung</td>\n",
       "      <td id=\"T_f5cfb_row3_col1\" class=\"data row3 col1\" >2534</td>\n",
       "    </tr>\n",
       "    <tr>\n",
       "      <td id=\"T_f5cfb_row4_col0\" class=\"data row4 col0\" >Colorectal cancer</td>\n",
       "      <td id=\"T_f5cfb_row4_col1\" class=\"data row4 col1\" >2514</td>\n",
       "    </tr>\n",
       "    <tr>\n",
       "      <td id=\"T_f5cfb_row5_col0\" class=\"data row5 col0\" >Squamous cell carcinoma of the skin</td>\n",
       "      <td id=\"T_f5cfb_row5_col1\" class=\"data row5 col1\" >2075</td>\n",
       "    </tr>\n",
       "  </tbody>\n",
       "</table>\n"
      ],
      "text/plain": [
       "<pandas.io.formats.style.Styler at 0x7ff12d07e4c0>"
      ]
     },
     "execution_count": 122,
     "metadata": {},
     "output_type": "execute_result"
    }
   ],
   "source": [
    "(summarised_data[summarised_data[\"total_incidences\"] > 2000]\n",
    ".sort_values(\"total_incidences\", ascending=False)\n",
    ".reset_index()\n",
    ".rename(columns={\"cancersite\":\"Cancer Site\", \"total_incidences\":\"Total Incidences\"})\n",
    ".style.hide(axis=\"index\")\n",
    ")"
   ]
  },
  {
   "cell_type": "markdown",
   "id": "e274922e",
   "metadata": {},
   "source": [
    "### Breast Cancer Incidences by Sex"
   ]
  },
  {
   "cell_type": "code",
   "execution_count": 120,
   "id": "cd7ef1fd",
   "metadata": {},
   "outputs": [
    {
     "data": {
      "text/html": [
       "<style type=\"text/css\">\n",
       "</style>\n",
       "<table id=\"T_dd12a\">\n",
       "  <thead>\n",
       "    <tr>\n",
       "      <th id=\"T_dd12a_level0_col0\" class=\"col_heading level0 col0\" >Sex</th>\n",
       "      <th id=\"T_dd12a_level0_col1\" class=\"col_heading level0 col1\" >Total Incidences</th>\n",
       "    </tr>\n",
       "  </thead>\n",
       "  <tbody>\n",
       "    <tr>\n",
       "      <td id=\"T_dd12a_row0_col0\" class=\"data row0 col0\" >Females</td>\n",
       "      <td id=\"T_dd12a_row0_col1\" class=\"data row0 col1\" >2598</td>\n",
       "    </tr>\n",
       "    <tr>\n",
       "      <td id=\"T_dd12a_row1_col0\" class=\"data row1 col0\" >Male</td>\n",
       "      <td id=\"T_dd12a_row1_col1\" class=\"data row1 col1\" >16</td>\n",
       "    </tr>\n",
       "  </tbody>\n",
       "</table>\n"
      ],
      "text/plain": [
       "<pandas.io.formats.style.Styler at 0x7ff12cf82f70>"
      ]
     },
     "execution_count": 120,
     "metadata": {},
     "output_type": "execute_result"
    }
   ],
   "source": [
    "(cancer_incidence_borders[(cancer_incidence_borders[\"cancersite\"] == \"Breast\") \n",
    "                         & ~(cancer_incidence_borders[\"sex\"] == \"All\")]\n",
    ".groupby(\"sex\")\n",
    ".agg(total_incidences=(\"incidencesallages\", \"sum\"))\n",
    ".reset_index()\n",
    ".rename(columns={\"sex\":\"Sex\", \"total_incidences\":\"Total Incidences\"})\n",
    ".style.hide(axis=\"index\")\n",
    ")"
   ]
  },
  {
   "cell_type": "markdown",
   "id": "15743616",
   "metadata": {},
   "source": [
    "According to NHS Borders data, breast cancer among females hasthe highest number of incidences and highest mean European age-standardised rate (EASR) of any cancer type."
   ]
  },
  {
   "cell_type": "markdown",
   "id": "221f989f",
   "metadata": {},
   "source": [
    "### Female Cancer Incidences"
   ]
  },
  {
   "cell_type": "code",
   "execution_count": 133,
   "id": "e81abe2e",
   "metadata": {},
   "outputs": [
    {
     "data": {
      "text/html": [
       "<style type=\"text/css\">\n",
       "#T_f9084_row0_col1 {\n",
       "  background-color: #9fd6f3;\n",
       "}\n",
       "</style>\n",
       "<table id=\"T_f9084\">\n",
       "  <thead>\n",
       "    <tr>\n",
       "      <th id=\"T_f9084_level0_col0\" class=\"col_heading level0 col0\" >Cancer Site</th>\n",
       "      <th id=\"T_f9084_level0_col1\" class=\"col_heading level0 col1\" >Total Incidences</th>\n",
       "    </tr>\n",
       "  </thead>\n",
       "  <tbody>\n",
       "    <tr>\n",
       "      <td id=\"T_f9084_row0_col0\" class=\"data row0 col0\" >Breast</td>\n",
       "      <td id=\"T_f9084_row0_col1\" class=\"data row0 col1\" >2598</td>\n",
       "    </tr>\n",
       "    <tr>\n",
       "      <td id=\"T_f9084_row1_col0\" class=\"data row1 col0\" >Non-melanoma skin cancer</td>\n",
       "      <td id=\"T_f9084_row1_col1\" class=\"data row1 col1\" >2519</td>\n",
       "    </tr>\n",
       "    <tr>\n",
       "      <td id=\"T_f9084_row2_col0\" class=\"data row2 col0\" >Basal cell carcinoma of the skin</td>\n",
       "      <td id=\"T_f9084_row2_col1\" class=\"data row2 col1\" >1882</td>\n",
       "    </tr>\n",
       "  </tbody>\n",
       "</table>\n"
      ],
      "text/plain": [
       "<pandas.io.formats.style.Styler at 0x7ff12cb58850>"
      ]
     },
     "execution_count": 133,
     "metadata": {},
     "output_type": "execute_result"
    }
   ],
   "source": [
    "(cancer_incidence_borders[~(cancer_incidence_borders[\"cancersite\"] == \"All cancer types\") \n",
    "                         & (cancer_incidence_borders[\"sex\"] == \"Females\")]\n",
    ".groupby(\"cancersite\")\n",
    ".agg(total_incidences=(\"incidencesallages\", \"sum\"))\n",
    ".sort_values(\"total_incidences\", ascending=False)\n",
    ".head(3)\n",
    ".reset_index()\n",
    ".rename(columns={\"cancersite\":\"Cancer Site\", \"total_incidences\":\"Total Incidences\"})\n",
    ".style.hide(axis=\"index\").highlight_max(subset=\"Total Incidences\", color = \"#9fd6f3\")\n",
    ")"
   ]
  },
  {
   "cell_type": "markdown",
   "id": "307e4dd3",
   "metadata": {},
   "source": [
    "### Female EASR by Cancer Type"
   ]
  },
  {
   "cell_type": "code",
   "execution_count": 135,
   "id": "3ff132fa",
   "metadata": {},
   "outputs": [
    {
     "data": {
      "text/html": [
       "<style type=\"text/css\">\n",
       "#T_13107_row0_col1 {\n",
       "  background-color: #9fd6f3;\n",
       "}\n",
       "</style>\n",
       "<table id=\"T_13107\">\n",
       "  <thead>\n",
       "    <tr>\n",
       "      <th id=\"T_13107_level0_col0\" class=\"col_heading level0 col0\" >Cancer Site</th>\n",
       "      <th id=\"T_13107_level0_col1\" class=\"col_heading level0 col1\" >Mean EASR</th>\n",
       "    </tr>\n",
       "  </thead>\n",
       "  <tbody>\n",
       "    <tr>\n",
       "      <td id=\"T_13107_row0_col0\" class=\"data row0 col0\" >Breast</td>\n",
       "      <td id=\"T_13107_row0_col1\" class=\"data row0 col1\" >161.363978</td>\n",
       "    </tr>\n",
       "    <tr>\n",
       "      <td id=\"T_13107_row1_col0\" class=\"data row1 col0\" >Non-melanoma skin cancer</td>\n",
       "      <td id=\"T_13107_row1_col1\" class=\"data row1 col1\" >150.399554</td>\n",
       "    </tr>\n",
       "    <tr>\n",
       "      <td id=\"T_13107_row2_col0\" class=\"data row2 col0\" >Basal cell carcinoma of the skin</td>\n",
       "      <td id=\"T_13107_row2_col1\" class=\"data row2 col1\" >113.917832</td>\n",
       "    </tr>\n",
       "  </tbody>\n",
       "</table>\n"
      ],
      "text/plain": [
       "<pandas.io.formats.style.Styler at 0x7ff12d07e5b0>"
      ]
     },
     "execution_count": 135,
     "metadata": {},
     "output_type": "execute_result"
    }
   ],
   "source": [
    "(cancer_incidence_borders[~(cancer_incidence_borders[\"cancersite\"] == \"All cancer types\") \n",
    "                         & (cancer_incidence_borders[\"sex\"] == \"Females\")]\n",
    ".groupby(\"cancersite\")\n",
    ".agg(mean_easr=(\"easr\", \"mean\"))\n",
    ".sort_values(\"mean_easr\", ascending=False)\n",
    ".head(3)\n",
    ".reset_index()\n",
    ".rename(columns={\"cancersite\":\"Cancer Site\", \"mean_easr\":\"Mean EASR\"})\n",
    ".style.hide(axis=\"index\").highlight_max(subset=\"Mean EASR\", color = \"#9fd6f3\")\n",
    ")"
   ]
  },
  {
   "cell_type": "markdown",
   "id": "cb18b4ec",
   "metadata": {},
   "source": [
    "## Trends Over Time"
   ]
  },
  {
   "cell_type": "code",
   "execution_count": 9,
   "id": "7f83902a",
   "metadata": {},
   "outputs": [],
   "source": [
    "cancer_site_list = [\"Breast\", \"All cancer types\"]"
   ]
  },
  {
   "cell_type": "code",
   "execution_count": 10,
   "id": "d94b558d",
   "metadata": {},
   "outputs": [],
   "source": [
    "ci_borders_female = cancer_incidence_borders[(cancer_incidence_borders[\"cancersite\"].isin(cancer_site_list))\n",
    "                         & (cancer_incidence_borders[\"sex\"] == \"Females\")].copy()"
   ]
  },
  {
   "cell_type": "code",
   "execution_count": 163,
   "id": "b7b832d3",
   "metadata": {},
   "outputs": [
    {
     "data": {
      "application/vnd.plotly.v1+json": {
       "config": {
        "plotlyServerURL": "https://plot.ly"
       },
       "data": [
        {
         "hovertemplate": "cancersite=All cancer types<br>year=%{x}<br>incidencesallages=%{y}<extra></extra>",
         "legendgroup": "All cancer types",
         "line": {
          "color": "#636efa",
          "dash": "solid"
         },
         "marker": {
          "symbol": "circle"
         },
         "mode": "lines+markers",
         "name": "All cancer types",
         "orientation": "v",
         "showlegend": true,
         "type": "scatter",
         "x": [
          1997,
          1998,
          1999,
          2000,
          2001,
          2002,
          2003,
          2004,
          2005,
          2006,
          2007,
          2008,
          2009,
          2010,
          2011,
          2012,
          2013,
          2014,
          2015,
          2016,
          2017,
          2018,
          2019,
          2020,
          2021
         ],
         "xaxis": "x",
         "y": [
          321,
          286,
          371,
          301,
          312,
          391,
          299,
          309,
          406,
          327,
          323,
          404,
          333,
          389,
          400,
          374,
          391,
          440,
          377,
          383,
          444,
          393,
          390,
          394,
          448
         ],
         "yaxis": "y"
        },
        {
         "hovertemplate": "cancersite=Breast<br>year=%{x}<br>incidencesallages=%{y}<extra></extra>",
         "legendgroup": "Breast",
         "line": {
          "color": "#EF553B",
          "dash": "solid"
         },
         "marker": {
          "symbol": "circle"
         },
         "mode": "lines+markers",
         "name": "Breast",
         "orientation": "v",
         "showlegend": true,
         "type": "scatter",
         "x": [
          1997,
          1998,
          1999,
          2000,
          2001,
          2002,
          2003,
          2004,
          2005,
          2006,
          2007,
          2008,
          2009,
          2010,
          2011,
          2012,
          2013,
          2014,
          2015,
          2016,
          2017,
          2018,
          2019,
          2020,
          2021
         ],
         "xaxis": "x",
         "y": [
          71,
          69,
          133,
          69,
          81,
          131,
          67,
          62,
          179,
          68,
          55,
          154,
          94,
          86,
          157,
          103,
          114,
          130,
          90,
          98,
          136,
          97,
          98,
          107,
          149
         ],
         "yaxis": "y"
        }
       ],
       "layout": {
        "legend": {
         "title": {
          "text": "cancersite"
         },
         "tracegroupgap": 0
        },
        "template": {
         "data": {
          "bar": [
           {
            "error_x": {
             "color": "#2a3f5f"
            },
            "error_y": {
             "color": "#2a3f5f"
            },
            "marker": {
             "line": {
              "color": "white",
              "width": 0.5
             },
             "pattern": {
              "fillmode": "overlay",
              "size": 10,
              "solidity": 0.2
             }
            },
            "type": "bar"
           }
          ],
          "barpolar": [
           {
            "marker": {
             "line": {
              "color": "white",
              "width": 0.5
             },
             "pattern": {
              "fillmode": "overlay",
              "size": 10,
              "solidity": 0.2
             }
            },
            "type": "barpolar"
           }
          ],
          "carpet": [
           {
            "aaxis": {
             "endlinecolor": "#2a3f5f",
             "gridcolor": "#C8D4E3",
             "linecolor": "#C8D4E3",
             "minorgridcolor": "#C8D4E3",
             "startlinecolor": "#2a3f5f"
            },
            "baxis": {
             "endlinecolor": "#2a3f5f",
             "gridcolor": "#C8D4E3",
             "linecolor": "#C8D4E3",
             "minorgridcolor": "#C8D4E3",
             "startlinecolor": "#2a3f5f"
            },
            "type": "carpet"
           }
          ],
          "choropleth": [
           {
            "colorbar": {
             "outlinewidth": 0,
             "ticks": ""
            },
            "type": "choropleth"
           }
          ],
          "contour": [
           {
            "colorbar": {
             "outlinewidth": 0,
             "ticks": ""
            },
            "colorscale": [
             [
              0,
              "#0d0887"
             ],
             [
              0.1111111111111111,
              "#46039f"
             ],
             [
              0.2222222222222222,
              "#7201a8"
             ],
             [
              0.3333333333333333,
              "#9c179e"
             ],
             [
              0.4444444444444444,
              "#bd3786"
             ],
             [
              0.5555555555555556,
              "#d8576b"
             ],
             [
              0.6666666666666666,
              "#ed7953"
             ],
             [
              0.7777777777777778,
              "#fb9f3a"
             ],
             [
              0.8888888888888888,
              "#fdca26"
             ],
             [
              1,
              "#f0f921"
             ]
            ],
            "type": "contour"
           }
          ],
          "contourcarpet": [
           {
            "colorbar": {
             "outlinewidth": 0,
             "ticks": ""
            },
            "type": "contourcarpet"
           }
          ],
          "heatmap": [
           {
            "colorbar": {
             "outlinewidth": 0,
             "ticks": ""
            },
            "colorscale": [
             [
              0,
              "#0d0887"
             ],
             [
              0.1111111111111111,
              "#46039f"
             ],
             [
              0.2222222222222222,
              "#7201a8"
             ],
             [
              0.3333333333333333,
              "#9c179e"
             ],
             [
              0.4444444444444444,
              "#bd3786"
             ],
             [
              0.5555555555555556,
              "#d8576b"
             ],
             [
              0.6666666666666666,
              "#ed7953"
             ],
             [
              0.7777777777777778,
              "#fb9f3a"
             ],
             [
              0.8888888888888888,
              "#fdca26"
             ],
             [
              1,
              "#f0f921"
             ]
            ],
            "type": "heatmap"
           }
          ],
          "heatmapgl": [
           {
            "colorbar": {
             "outlinewidth": 0,
             "ticks": ""
            },
            "colorscale": [
             [
              0,
              "#0d0887"
             ],
             [
              0.1111111111111111,
              "#46039f"
             ],
             [
              0.2222222222222222,
              "#7201a8"
             ],
             [
              0.3333333333333333,
              "#9c179e"
             ],
             [
              0.4444444444444444,
              "#bd3786"
             ],
             [
              0.5555555555555556,
              "#d8576b"
             ],
             [
              0.6666666666666666,
              "#ed7953"
             ],
             [
              0.7777777777777778,
              "#fb9f3a"
             ],
             [
              0.8888888888888888,
              "#fdca26"
             ],
             [
              1,
              "#f0f921"
             ]
            ],
            "type": "heatmapgl"
           }
          ],
          "histogram": [
           {
            "marker": {
             "pattern": {
              "fillmode": "overlay",
              "size": 10,
              "solidity": 0.2
             }
            },
            "type": "histogram"
           }
          ],
          "histogram2d": [
           {
            "colorbar": {
             "outlinewidth": 0,
             "ticks": ""
            },
            "colorscale": [
             [
              0,
              "#0d0887"
             ],
             [
              0.1111111111111111,
              "#46039f"
             ],
             [
              0.2222222222222222,
              "#7201a8"
             ],
             [
              0.3333333333333333,
              "#9c179e"
             ],
             [
              0.4444444444444444,
              "#bd3786"
             ],
             [
              0.5555555555555556,
              "#d8576b"
             ],
             [
              0.6666666666666666,
              "#ed7953"
             ],
             [
              0.7777777777777778,
              "#fb9f3a"
             ],
             [
              0.8888888888888888,
              "#fdca26"
             ],
             [
              1,
              "#f0f921"
             ]
            ],
            "type": "histogram2d"
           }
          ],
          "histogram2dcontour": [
           {
            "colorbar": {
             "outlinewidth": 0,
             "ticks": ""
            },
            "colorscale": [
             [
              0,
              "#0d0887"
             ],
             [
              0.1111111111111111,
              "#46039f"
             ],
             [
              0.2222222222222222,
              "#7201a8"
             ],
             [
              0.3333333333333333,
              "#9c179e"
             ],
             [
              0.4444444444444444,
              "#bd3786"
             ],
             [
              0.5555555555555556,
              "#d8576b"
             ],
             [
              0.6666666666666666,
              "#ed7953"
             ],
             [
              0.7777777777777778,
              "#fb9f3a"
             ],
             [
              0.8888888888888888,
              "#fdca26"
             ],
             [
              1,
              "#f0f921"
             ]
            ],
            "type": "histogram2dcontour"
           }
          ],
          "mesh3d": [
           {
            "colorbar": {
             "outlinewidth": 0,
             "ticks": ""
            },
            "type": "mesh3d"
           }
          ],
          "parcoords": [
           {
            "line": {
             "colorbar": {
              "outlinewidth": 0,
              "ticks": ""
             }
            },
            "type": "parcoords"
           }
          ],
          "pie": [
           {
            "automargin": true,
            "type": "pie"
           }
          ],
          "scatter": [
           {
            "fillpattern": {
             "fillmode": "overlay",
             "size": 10,
             "solidity": 0.2
            },
            "type": "scatter"
           }
          ],
          "scatter3d": [
           {
            "line": {
             "colorbar": {
              "outlinewidth": 0,
              "ticks": ""
             }
            },
            "marker": {
             "colorbar": {
              "outlinewidth": 0,
              "ticks": ""
             }
            },
            "type": "scatter3d"
           }
          ],
          "scattercarpet": [
           {
            "marker": {
             "colorbar": {
              "outlinewidth": 0,
              "ticks": ""
             }
            },
            "type": "scattercarpet"
           }
          ],
          "scattergeo": [
           {
            "marker": {
             "colorbar": {
              "outlinewidth": 0,
              "ticks": ""
             }
            },
            "type": "scattergeo"
           }
          ],
          "scattergl": [
           {
            "marker": {
             "colorbar": {
              "outlinewidth": 0,
              "ticks": ""
             }
            },
            "type": "scattergl"
           }
          ],
          "scattermapbox": [
           {
            "marker": {
             "colorbar": {
              "outlinewidth": 0,
              "ticks": ""
             }
            },
            "type": "scattermapbox"
           }
          ],
          "scatterpolar": [
           {
            "marker": {
             "colorbar": {
              "outlinewidth": 0,
              "ticks": ""
             }
            },
            "type": "scatterpolar"
           }
          ],
          "scatterpolargl": [
           {
            "marker": {
             "colorbar": {
              "outlinewidth": 0,
              "ticks": ""
             }
            },
            "type": "scatterpolargl"
           }
          ],
          "scatterternary": [
           {
            "marker": {
             "colorbar": {
              "outlinewidth": 0,
              "ticks": ""
             }
            },
            "type": "scatterternary"
           }
          ],
          "surface": [
           {
            "colorbar": {
             "outlinewidth": 0,
             "ticks": ""
            },
            "colorscale": [
             [
              0,
              "#0d0887"
             ],
             [
              0.1111111111111111,
              "#46039f"
             ],
             [
              0.2222222222222222,
              "#7201a8"
             ],
             [
              0.3333333333333333,
              "#9c179e"
             ],
             [
              0.4444444444444444,
              "#bd3786"
             ],
             [
              0.5555555555555556,
              "#d8576b"
             ],
             [
              0.6666666666666666,
              "#ed7953"
             ],
             [
              0.7777777777777778,
              "#fb9f3a"
             ],
             [
              0.8888888888888888,
              "#fdca26"
             ],
             [
              1,
              "#f0f921"
             ]
            ],
            "type": "surface"
           }
          ],
          "table": [
           {
            "cells": {
             "fill": {
              "color": "#EBF0F8"
             },
             "line": {
              "color": "white"
             }
            },
            "header": {
             "fill": {
              "color": "#C8D4E3"
             },
             "line": {
              "color": "white"
             }
            },
            "type": "table"
           }
          ]
         },
         "layout": {
          "annotationdefaults": {
           "arrowcolor": "#2a3f5f",
           "arrowhead": 0,
           "arrowwidth": 1
          },
          "autotypenumbers": "strict",
          "coloraxis": {
           "colorbar": {
            "outlinewidth": 0,
            "ticks": ""
           }
          },
          "colorscale": {
           "diverging": [
            [
             0,
             "#8e0152"
            ],
            [
             0.1,
             "#c51b7d"
            ],
            [
             0.2,
             "#de77ae"
            ],
            [
             0.3,
             "#f1b6da"
            ],
            [
             0.4,
             "#fde0ef"
            ],
            [
             0.5,
             "#f7f7f7"
            ],
            [
             0.6,
             "#e6f5d0"
            ],
            [
             0.7,
             "#b8e186"
            ],
            [
             0.8,
             "#7fbc41"
            ],
            [
             0.9,
             "#4d9221"
            ],
            [
             1,
             "#276419"
            ]
           ],
           "sequential": [
            [
             0,
             "#0d0887"
            ],
            [
             0.1111111111111111,
             "#46039f"
            ],
            [
             0.2222222222222222,
             "#7201a8"
            ],
            [
             0.3333333333333333,
             "#9c179e"
            ],
            [
             0.4444444444444444,
             "#bd3786"
            ],
            [
             0.5555555555555556,
             "#d8576b"
            ],
            [
             0.6666666666666666,
             "#ed7953"
            ],
            [
             0.7777777777777778,
             "#fb9f3a"
            ],
            [
             0.8888888888888888,
             "#fdca26"
            ],
            [
             1,
             "#f0f921"
            ]
           ],
           "sequentialminus": [
            [
             0,
             "#0d0887"
            ],
            [
             0.1111111111111111,
             "#46039f"
            ],
            [
             0.2222222222222222,
             "#7201a8"
            ],
            [
             0.3333333333333333,
             "#9c179e"
            ],
            [
             0.4444444444444444,
             "#bd3786"
            ],
            [
             0.5555555555555556,
             "#d8576b"
            ],
            [
             0.6666666666666666,
             "#ed7953"
            ],
            [
             0.7777777777777778,
             "#fb9f3a"
            ],
            [
             0.8888888888888888,
             "#fdca26"
            ],
            [
             1,
             "#f0f921"
            ]
           ]
          },
          "colorway": [
           "#636efa",
           "#EF553B",
           "#00cc96",
           "#ab63fa",
           "#FFA15A",
           "#19d3f3",
           "#FF6692",
           "#B6E880",
           "#FF97FF",
           "#FECB52"
          ],
          "font": {
           "color": "#2a3f5f"
          },
          "geo": {
           "bgcolor": "white",
           "lakecolor": "white",
           "landcolor": "white",
           "showlakes": true,
           "showland": true,
           "subunitcolor": "#C8D4E3"
          },
          "hoverlabel": {
           "align": "left"
          },
          "hovermode": "closest",
          "mapbox": {
           "style": "light"
          },
          "paper_bgcolor": "white",
          "plot_bgcolor": "white",
          "polar": {
           "angularaxis": {
            "gridcolor": "#EBF0F8",
            "linecolor": "#EBF0F8",
            "ticks": ""
           },
           "bgcolor": "white",
           "radialaxis": {
            "gridcolor": "#EBF0F8",
            "linecolor": "#EBF0F8",
            "ticks": ""
           }
          },
          "scene": {
           "xaxis": {
            "backgroundcolor": "white",
            "gridcolor": "#DFE8F3",
            "gridwidth": 2,
            "linecolor": "#EBF0F8",
            "showbackground": true,
            "ticks": "",
            "zerolinecolor": "#EBF0F8"
           },
           "yaxis": {
            "backgroundcolor": "white",
            "gridcolor": "#DFE8F3",
            "gridwidth": 2,
            "linecolor": "#EBF0F8",
            "showbackground": true,
            "ticks": "",
            "zerolinecolor": "#EBF0F8"
           },
           "zaxis": {
            "backgroundcolor": "white",
            "gridcolor": "#DFE8F3",
            "gridwidth": 2,
            "linecolor": "#EBF0F8",
            "showbackground": true,
            "ticks": "",
            "zerolinecolor": "#EBF0F8"
           }
          },
          "shapedefaults": {
           "line": {
            "color": "#2a3f5f"
           }
          },
          "ternary": {
           "aaxis": {
            "gridcolor": "#DFE8F3",
            "linecolor": "#A2B1C6",
            "ticks": ""
           },
           "baxis": {
            "gridcolor": "#DFE8F3",
            "linecolor": "#A2B1C6",
            "ticks": ""
           },
           "bgcolor": "white",
           "caxis": {
            "gridcolor": "#DFE8F3",
            "linecolor": "#A2B1C6",
            "ticks": ""
           }
          },
          "title": {
           "x": 0.05
          },
          "xaxis": {
           "automargin": true,
           "gridcolor": "#EBF0F8",
           "linecolor": "#EBF0F8",
           "ticks": "",
           "title": {
            "standoff": 15
           },
           "zerolinecolor": "#EBF0F8",
           "zerolinewidth": 2
          },
          "yaxis": {
           "automargin": true,
           "gridcolor": "#EBF0F8",
           "linecolor": "#EBF0F8",
           "ticks": "",
           "title": {
            "standoff": 15
           },
           "zerolinecolor": "#EBF0F8",
           "zerolinewidth": 2
          }
         }
        },
        "title": {
         "text": "Female Breast Cancer Incidences <br><sup>NHS Borders: 1997-2021</sup>"
        },
        "xaxis": {
         "anchor": "y",
         "domain": [
          0,
          1
         ],
         "dtick": 1,
         "tick0": 1997,
         "tickangle": 45,
         "tickmode": "linear",
         "title": {
          "text": "Year"
         }
        },
        "yaxis": {
         "anchor": "x",
         "domain": [
          0,
          1
         ],
         "range": [
          0,
          500
         ],
         "title": {
          "text": "Incidences"
         }
        }
       }
      },
      "text/html": [
       "<div>                            <div id=\"0f82821b-750f-4eeb-8c9a-ab99dbff0312\" class=\"plotly-graph-div\" style=\"height:525px; width:100%;\"></div>            <script type=\"text/javascript\">                require([\"plotly\"], function(Plotly) {                    window.PLOTLYENV=window.PLOTLYENV || {};                                    if (document.getElementById(\"0f82821b-750f-4eeb-8c9a-ab99dbff0312\")) {                    Plotly.newPlot(                        \"0f82821b-750f-4eeb-8c9a-ab99dbff0312\",                        [{\"hovertemplate\":\"cancersite=All cancer types<br>year=%{x}<br>incidencesallages=%{y}<extra></extra>\",\"legendgroup\":\"All cancer types\",\"line\":{\"color\":\"#636efa\",\"dash\":\"solid\"},\"marker\":{\"symbol\":\"circle\"},\"mode\":\"lines+markers\",\"name\":\"All cancer types\",\"orientation\":\"v\",\"showlegend\":true,\"x\":[1997,1998,1999,2000,2001,2002,2003,2004,2005,2006,2007,2008,2009,2010,2011,2012,2013,2014,2015,2016,2017,2018,2019,2020,2021],\"xaxis\":\"x\",\"y\":[321,286,371,301,312,391,299,309,406,327,323,404,333,389,400,374,391,440,377,383,444,393,390,394,448],\"yaxis\":\"y\",\"type\":\"scatter\"},{\"hovertemplate\":\"cancersite=Breast<br>year=%{x}<br>incidencesallages=%{y}<extra></extra>\",\"legendgroup\":\"Breast\",\"line\":{\"color\":\"#EF553B\",\"dash\":\"solid\"},\"marker\":{\"symbol\":\"circle\"},\"mode\":\"lines+markers\",\"name\":\"Breast\",\"orientation\":\"v\",\"showlegend\":true,\"x\":[1997,1998,1999,2000,2001,2002,2003,2004,2005,2006,2007,2008,2009,2010,2011,2012,2013,2014,2015,2016,2017,2018,2019,2020,2021],\"xaxis\":\"x\",\"y\":[71,69,133,69,81,131,67,62,179,68,55,154,94,86,157,103,114,130,90,98,136,97,98,107,149],\"yaxis\":\"y\",\"type\":\"scatter\"}],                        {\"template\":{\"data\":{\"barpolar\":[{\"marker\":{\"line\":{\"color\":\"white\",\"width\":0.5},\"pattern\":{\"fillmode\":\"overlay\",\"size\":10,\"solidity\":0.2}},\"type\":\"barpolar\"}],\"bar\":[{\"error_x\":{\"color\":\"#2a3f5f\"},\"error_y\":{\"color\":\"#2a3f5f\"},\"marker\":{\"line\":{\"color\":\"white\",\"width\":0.5},\"pattern\":{\"fillmode\":\"overlay\",\"size\":10,\"solidity\":0.2}},\"type\":\"bar\"}],\"carpet\":[{\"aaxis\":{\"endlinecolor\":\"#2a3f5f\",\"gridcolor\":\"#C8D4E3\",\"linecolor\":\"#C8D4E3\",\"minorgridcolor\":\"#C8D4E3\",\"startlinecolor\":\"#2a3f5f\"},\"baxis\":{\"endlinecolor\":\"#2a3f5f\",\"gridcolor\":\"#C8D4E3\",\"linecolor\":\"#C8D4E3\",\"minorgridcolor\":\"#C8D4E3\",\"startlinecolor\":\"#2a3f5f\"},\"type\":\"carpet\"}],\"choropleth\":[{\"colorbar\":{\"outlinewidth\":0,\"ticks\":\"\"},\"type\":\"choropleth\"}],\"contourcarpet\":[{\"colorbar\":{\"outlinewidth\":0,\"ticks\":\"\"},\"type\":\"contourcarpet\"}],\"contour\":[{\"colorbar\":{\"outlinewidth\":0,\"ticks\":\"\"},\"colorscale\":[[0.0,\"#0d0887\"],[0.1111111111111111,\"#46039f\"],[0.2222222222222222,\"#7201a8\"],[0.3333333333333333,\"#9c179e\"],[0.4444444444444444,\"#bd3786\"],[0.5555555555555556,\"#d8576b\"],[0.6666666666666666,\"#ed7953\"],[0.7777777777777778,\"#fb9f3a\"],[0.8888888888888888,\"#fdca26\"],[1.0,\"#f0f921\"]],\"type\":\"contour\"}],\"heatmapgl\":[{\"colorbar\":{\"outlinewidth\":0,\"ticks\":\"\"},\"colorscale\":[[0.0,\"#0d0887\"],[0.1111111111111111,\"#46039f\"],[0.2222222222222222,\"#7201a8\"],[0.3333333333333333,\"#9c179e\"],[0.4444444444444444,\"#bd3786\"],[0.5555555555555556,\"#d8576b\"],[0.6666666666666666,\"#ed7953\"],[0.7777777777777778,\"#fb9f3a\"],[0.8888888888888888,\"#fdca26\"],[1.0,\"#f0f921\"]],\"type\":\"heatmapgl\"}],\"heatmap\":[{\"colorbar\":{\"outlinewidth\":0,\"ticks\":\"\"},\"colorscale\":[[0.0,\"#0d0887\"],[0.1111111111111111,\"#46039f\"],[0.2222222222222222,\"#7201a8\"],[0.3333333333333333,\"#9c179e\"],[0.4444444444444444,\"#bd3786\"],[0.5555555555555556,\"#d8576b\"],[0.6666666666666666,\"#ed7953\"],[0.7777777777777778,\"#fb9f3a\"],[0.8888888888888888,\"#fdca26\"],[1.0,\"#f0f921\"]],\"type\":\"heatmap\"}],\"histogram2dcontour\":[{\"colorbar\":{\"outlinewidth\":0,\"ticks\":\"\"},\"colorscale\":[[0.0,\"#0d0887\"],[0.1111111111111111,\"#46039f\"],[0.2222222222222222,\"#7201a8\"],[0.3333333333333333,\"#9c179e\"],[0.4444444444444444,\"#bd3786\"],[0.5555555555555556,\"#d8576b\"],[0.6666666666666666,\"#ed7953\"],[0.7777777777777778,\"#fb9f3a\"],[0.8888888888888888,\"#fdca26\"],[1.0,\"#f0f921\"]],\"type\":\"histogram2dcontour\"}],\"histogram2d\":[{\"colorbar\":{\"outlinewidth\":0,\"ticks\":\"\"},\"colorscale\":[[0.0,\"#0d0887\"],[0.1111111111111111,\"#46039f\"],[0.2222222222222222,\"#7201a8\"],[0.3333333333333333,\"#9c179e\"],[0.4444444444444444,\"#bd3786\"],[0.5555555555555556,\"#d8576b\"],[0.6666666666666666,\"#ed7953\"],[0.7777777777777778,\"#fb9f3a\"],[0.8888888888888888,\"#fdca26\"],[1.0,\"#f0f921\"]],\"type\":\"histogram2d\"}],\"histogram\":[{\"marker\":{\"pattern\":{\"fillmode\":\"overlay\",\"size\":10,\"solidity\":0.2}},\"type\":\"histogram\"}],\"mesh3d\":[{\"colorbar\":{\"outlinewidth\":0,\"ticks\":\"\"},\"type\":\"mesh3d\"}],\"parcoords\":[{\"line\":{\"colorbar\":{\"outlinewidth\":0,\"ticks\":\"\"}},\"type\":\"parcoords\"}],\"pie\":[{\"automargin\":true,\"type\":\"pie\"}],\"scatter3d\":[{\"line\":{\"colorbar\":{\"outlinewidth\":0,\"ticks\":\"\"}},\"marker\":{\"colorbar\":{\"outlinewidth\":0,\"ticks\":\"\"}},\"type\":\"scatter3d\"}],\"scattercarpet\":[{\"marker\":{\"colorbar\":{\"outlinewidth\":0,\"ticks\":\"\"}},\"type\":\"scattercarpet\"}],\"scattergeo\":[{\"marker\":{\"colorbar\":{\"outlinewidth\":0,\"ticks\":\"\"}},\"type\":\"scattergeo\"}],\"scattergl\":[{\"marker\":{\"colorbar\":{\"outlinewidth\":0,\"ticks\":\"\"}},\"type\":\"scattergl\"}],\"scattermapbox\":[{\"marker\":{\"colorbar\":{\"outlinewidth\":0,\"ticks\":\"\"}},\"type\":\"scattermapbox\"}],\"scatterpolargl\":[{\"marker\":{\"colorbar\":{\"outlinewidth\":0,\"ticks\":\"\"}},\"type\":\"scatterpolargl\"}],\"scatterpolar\":[{\"marker\":{\"colorbar\":{\"outlinewidth\":0,\"ticks\":\"\"}},\"type\":\"scatterpolar\"}],\"scatter\":[{\"fillpattern\":{\"fillmode\":\"overlay\",\"size\":10,\"solidity\":0.2},\"type\":\"scatter\"}],\"scatterternary\":[{\"marker\":{\"colorbar\":{\"outlinewidth\":0,\"ticks\":\"\"}},\"type\":\"scatterternary\"}],\"surface\":[{\"colorbar\":{\"outlinewidth\":0,\"ticks\":\"\"},\"colorscale\":[[0.0,\"#0d0887\"],[0.1111111111111111,\"#46039f\"],[0.2222222222222222,\"#7201a8\"],[0.3333333333333333,\"#9c179e\"],[0.4444444444444444,\"#bd3786\"],[0.5555555555555556,\"#d8576b\"],[0.6666666666666666,\"#ed7953\"],[0.7777777777777778,\"#fb9f3a\"],[0.8888888888888888,\"#fdca26\"],[1.0,\"#f0f921\"]],\"type\":\"surface\"}],\"table\":[{\"cells\":{\"fill\":{\"color\":\"#EBF0F8\"},\"line\":{\"color\":\"white\"}},\"header\":{\"fill\":{\"color\":\"#C8D4E3\"},\"line\":{\"color\":\"white\"}},\"type\":\"table\"}]},\"layout\":{\"annotationdefaults\":{\"arrowcolor\":\"#2a3f5f\",\"arrowhead\":0,\"arrowwidth\":1},\"autotypenumbers\":\"strict\",\"coloraxis\":{\"colorbar\":{\"outlinewidth\":0,\"ticks\":\"\"}},\"colorscale\":{\"diverging\":[[0,\"#8e0152\"],[0.1,\"#c51b7d\"],[0.2,\"#de77ae\"],[0.3,\"#f1b6da\"],[0.4,\"#fde0ef\"],[0.5,\"#f7f7f7\"],[0.6,\"#e6f5d0\"],[0.7,\"#b8e186\"],[0.8,\"#7fbc41\"],[0.9,\"#4d9221\"],[1,\"#276419\"]],\"sequential\":[[0.0,\"#0d0887\"],[0.1111111111111111,\"#46039f\"],[0.2222222222222222,\"#7201a8\"],[0.3333333333333333,\"#9c179e\"],[0.4444444444444444,\"#bd3786\"],[0.5555555555555556,\"#d8576b\"],[0.6666666666666666,\"#ed7953\"],[0.7777777777777778,\"#fb9f3a\"],[0.8888888888888888,\"#fdca26\"],[1.0,\"#f0f921\"]],\"sequentialminus\":[[0.0,\"#0d0887\"],[0.1111111111111111,\"#46039f\"],[0.2222222222222222,\"#7201a8\"],[0.3333333333333333,\"#9c179e\"],[0.4444444444444444,\"#bd3786\"],[0.5555555555555556,\"#d8576b\"],[0.6666666666666666,\"#ed7953\"],[0.7777777777777778,\"#fb9f3a\"],[0.8888888888888888,\"#fdca26\"],[1.0,\"#f0f921\"]]},\"colorway\":[\"#636efa\",\"#EF553B\",\"#00cc96\",\"#ab63fa\",\"#FFA15A\",\"#19d3f3\",\"#FF6692\",\"#B6E880\",\"#FF97FF\",\"#FECB52\"],\"font\":{\"color\":\"#2a3f5f\"},\"geo\":{\"bgcolor\":\"white\",\"lakecolor\":\"white\",\"landcolor\":\"white\",\"showlakes\":true,\"showland\":true,\"subunitcolor\":\"#C8D4E3\"},\"hoverlabel\":{\"align\":\"left\"},\"hovermode\":\"closest\",\"mapbox\":{\"style\":\"light\"},\"paper_bgcolor\":\"white\",\"plot_bgcolor\":\"white\",\"polar\":{\"angularaxis\":{\"gridcolor\":\"#EBF0F8\",\"linecolor\":\"#EBF0F8\",\"ticks\":\"\"},\"bgcolor\":\"white\",\"radialaxis\":{\"gridcolor\":\"#EBF0F8\",\"linecolor\":\"#EBF0F8\",\"ticks\":\"\"}},\"scene\":{\"xaxis\":{\"backgroundcolor\":\"white\",\"gridcolor\":\"#DFE8F3\",\"gridwidth\":2,\"linecolor\":\"#EBF0F8\",\"showbackground\":true,\"ticks\":\"\",\"zerolinecolor\":\"#EBF0F8\"},\"yaxis\":{\"backgroundcolor\":\"white\",\"gridcolor\":\"#DFE8F3\",\"gridwidth\":2,\"linecolor\":\"#EBF0F8\",\"showbackground\":true,\"ticks\":\"\",\"zerolinecolor\":\"#EBF0F8\"},\"zaxis\":{\"backgroundcolor\":\"white\",\"gridcolor\":\"#DFE8F3\",\"gridwidth\":2,\"linecolor\":\"#EBF0F8\",\"showbackground\":true,\"ticks\":\"\",\"zerolinecolor\":\"#EBF0F8\"}},\"shapedefaults\":{\"line\":{\"color\":\"#2a3f5f\"}},\"ternary\":{\"aaxis\":{\"gridcolor\":\"#DFE8F3\",\"linecolor\":\"#A2B1C6\",\"ticks\":\"\"},\"baxis\":{\"gridcolor\":\"#DFE8F3\",\"linecolor\":\"#A2B1C6\",\"ticks\":\"\"},\"bgcolor\":\"white\",\"caxis\":{\"gridcolor\":\"#DFE8F3\",\"linecolor\":\"#A2B1C6\",\"ticks\":\"\"}},\"title\":{\"x\":0.05},\"xaxis\":{\"automargin\":true,\"gridcolor\":\"#EBF0F8\",\"linecolor\":\"#EBF0F8\",\"ticks\":\"\",\"title\":{\"standoff\":15},\"zerolinecolor\":\"#EBF0F8\",\"zerolinewidth\":2},\"yaxis\":{\"automargin\":true,\"gridcolor\":\"#EBF0F8\",\"linecolor\":\"#EBF0F8\",\"ticks\":\"\",\"title\":{\"standoff\":15},\"zerolinecolor\":\"#EBF0F8\",\"zerolinewidth\":2}}},\"xaxis\":{\"anchor\":\"y\",\"domain\":[0.0,1.0],\"title\":{\"text\":\"Year\"},\"tickmode\":\"linear\",\"tick0\":1997,\"dtick\":1,\"tickangle\":45},\"yaxis\":{\"anchor\":\"x\",\"domain\":[0.0,1.0],\"title\":{\"text\":\"Incidences\"},\"range\":[0,500]},\"legend\":{\"title\":{\"text\":\"cancersite\"},\"tracegroupgap\":0},\"title\":{\"text\":\"Female Breast Cancer Incidences <br><sup>NHS Borders: 1997-2021</sup>\"}},                        {\"responsive\": true}                    ).then(function(){\n",
       "                            \n",
       "var gd = document.getElementById('0f82821b-750f-4eeb-8c9a-ab99dbff0312');\n",
       "var x = new MutationObserver(function (mutations, observer) {{\n",
       "        var display = window.getComputedStyle(gd).display;\n",
       "        if (!display || display === 'none') {{\n",
       "            console.log([gd, 'removed!']);\n",
       "            Plotly.purge(gd);\n",
       "            observer.disconnect();\n",
       "        }}\n",
       "}});\n",
       "\n",
       "// Listen for the removal of the full notebook cells\n",
       "var notebookContainer = gd.closest('#notebook-container');\n",
       "if (notebookContainer) {{\n",
       "    x.observe(notebookContainer, {childList: true});\n",
       "}}\n",
       "\n",
       "// Listen for the clearing of the current output cell\n",
       "var outputEl = gd.closest('.output');\n",
       "if (outputEl) {{\n",
       "    x.observe(outputEl, {childList: true});\n",
       "}}\n",
       "\n",
       "                        })                };                });            </script>        </div>"
      ]
     },
     "metadata": {},
     "output_type": "display_data"
    }
   ],
   "source": [
    "fig1 = px.line(ci_borders_female, x='year', y='incidencesallages', color = \"cancersite\", markers=True, template=\"plotly_white\", title = \"Female Breast Cancer Incidences <br><sup>NHS Borders: 1997-2021</sup>\")\n",
    "\n",
    "fig1.update_layout(xaxis_title='Year',\n",
    "                   yaxis_title='Incidences',\n",
    "                   yaxis_range=[0,500],\n",
    "                  xaxis = dict(\n",
    "                      tickmode = 'linear',\n",
    "                      tick0 = 1997,\n",
    "                      dtick = 1))\n",
    "\n",
    "fig1.update_xaxes(tickangle=45)\n",
    "\n",
    "\n",
    "fig1.show()"
   ]
  },
  {
   "cell_type": "markdown",
   "id": "cd0586b0",
   "metadata": {},
   "source": [
    "**What does this visualisation tell us?**"
   ]
  },
  {
   "cell_type": "markdown",
   "id": "8152984c",
   "metadata": {},
   "source": [
    "- That breast cancer incidences in females appear to be driving the trend of all cancer type incidences.\n",
    "- That breast cancer incidences appear to peak approximately every 3 years."
   ]
  },
  {
   "cell_type": "markdown",
   "id": "15b5f739",
   "metadata": {},
   "source": [
    "When we look at the year-on-year percentage changes in breast cancer incidences we can gain further insights. The table below shows:"
   ]
  },
  {
   "cell_type": "markdown",
   "id": "444f454a",
   "metadata": {},
   "source": [
    "- The average percentage increase in incidences from the previous year at the 8 peaks highlighted is 84%.\n",
    "- This trend is less evident in 2020 when we may have expected it, indeed there was only a 9% increase from 2020."
   ]
  },
  {
   "cell_type": "markdown",
   "id": "250ec2d1",
   "metadata": {},
   "source": [
    "**Why might there be a 3 year trend?**"
   ]
  },
  {
   "cell_type": "markdown",
   "id": "8b9b6db5",
   "metadata": {},
   "source": [
    "Women who meet screening criteria are invited for breast screening once every 3 years (NHS National Services Scotland, 2022)."
   ]
  },
  {
   "cell_type": "markdown",
   "id": "1e84f600",
   "metadata": {},
   "source": [
    "**Why might we not see the same peak in 2020 as we may have expected?**"
   ]
  },
  {
   "cell_type": "markdown",
   "id": "be73a9ac",
   "metadata": {},
   "source": [
    "Due to the COVID-19 pandemic, no invites to breast screenings were sent between 30 March 2020 and 3 August 2020 (Public Health Scotland, 2022)."
   ]
  },
  {
   "cell_type": "markdown",
   "id": "357d455c",
   "metadata": {},
   "source": [
    "## Health Board Comparison"
   ]
  },
  {
   "cell_type": "markdown",
   "id": "21e4e81f",
   "metadata": {},
   "source": [
    "To understand how these rates compare to other health boards in Scotland, we can visualise the EASR over a five year period. The EASR is the European age-standardised incidence rate per 100,000 person-years at risk."
   ]
  },
  {
   "cell_type": "code",
   "execution_count": 61,
   "id": "e50d8bca",
   "metadata": {},
   "outputs": [],
   "source": [
    "five_year_summary_filtered = five_year_summary[(five_year_summary[\"sex\"] == \"Females\")\n",
    "                  & (five_year_summary[\"cancersite\"] == \"Breast\") \n",
    "                  & ~(five_year_summary[\"hb\"] == \"GR0800001\")].copy()"
   ]
  },
  {
   "cell_type": "code",
   "execution_count": 65,
   "id": "6b1d926d",
   "metadata": {},
   "outputs": [],
   "source": [
    "summary_merged = five_year_summary_filtered.merge(geography_codes, on = \"hb\", how = \"left\")"
   ]
  },
  {
   "cell_type": "code",
   "execution_count": 125,
   "id": "e331ebd7",
   "metadata": {},
   "outputs": [
    {
     "data": {
      "text/html": [
       "<style type=\"text/css\">\n",
       "#T_544d9_row0_col1 {\n",
       "  background-color: #023858;\n",
       "  color: #f1f1f1;\n",
       "}\n",
       "#T_544d9_row1_col1 {\n",
       "  background-color: #045a8d;\n",
       "  color: #f1f1f1;\n",
       "}\n",
       "#T_544d9_row2_col1 {\n",
       "  background-color: #046097;\n",
       "  color: #f1f1f1;\n",
       "}\n",
       "#T_544d9_row3_col1 {\n",
       "  background-color: #187cb6;\n",
       "  color: #f1f1f1;\n",
       "}\n",
       "#T_544d9_row4_col1 {\n",
       "  background-color: #2081b9;\n",
       "  color: #f1f1f1;\n",
       "}\n",
       "#T_544d9_row5_col1 {\n",
       "  background-color: #81aed2;\n",
       "  color: #f1f1f1;\n",
       "}\n",
       "#T_544d9_row6_col1 {\n",
       "  background-color: #8bb2d4;\n",
       "  color: #000000;\n",
       "}\n",
       "#T_544d9_row7_col1 {\n",
       "  background-color: #a1bbda;\n",
       "  color: #000000;\n",
       "}\n",
       "#T_544d9_row8_col1 {\n",
       "  background-color: #b3c3de;\n",
       "  color: #000000;\n",
       "}\n",
       "#T_544d9_row9_col1 {\n",
       "  background-color: #faf2f8;\n",
       "  color: #000000;\n",
       "}\n",
       "#T_544d9_row10_col1 {\n",
       "  background-color: #fff7fb;\n",
       "  color: #000000;\n",
       "}\n",
       "</style>\n",
       "<table id=\"T_544d9\">\n",
       "  <thead>\n",
       "    <tr>\n",
       "      <th id=\"T_544d9_level0_col0\" class=\"col_heading level0 col0\" >Health Board</th>\n",
       "      <th id=\"T_544d9_level0_col1\" class=\"col_heading level0 col1\" >easr</th>\n",
       "    </tr>\n",
       "  </thead>\n",
       "  <tbody>\n",
       "    <tr>\n",
       "      <td id=\"T_544d9_row0_col0\" class=\"data row0 col0\" >NHS Dumfries and Galloway</td>\n",
       "      <td id=\"T_544d9_row0_col1\" class=\"data row0 col1\" >174.615350</td>\n",
       "    </tr>\n",
       "    <tr>\n",
       "      <td id=\"T_544d9_row1_col0\" class=\"data row1 col0\" >NHS Lothian</td>\n",
       "      <td id=\"T_544d9_row1_col1\" class=\"data row1 col1\" >172.317942</td>\n",
       "    </tr>\n",
       "    <tr>\n",
       "      <td id=\"T_544d9_row2_col0\" class=\"data row2 col0\" >NHS Forth Valley</td>\n",
       "      <td id=\"T_544d9_row2_col1\" class=\"data row2 col1\" >171.658482</td>\n",
       "    </tr>\n",
       "    <tr>\n",
       "      <td id=\"T_544d9_row3_col0\" class=\"data row3 col0\" >NHS Lanarkshire</td>\n",
       "      <td id=\"T_544d9_row3_col1\" class=\"data row3 col1\" >169.148598</td>\n",
       "    </tr>\n",
       "    <tr>\n",
       "      <td id=\"T_544d9_row4_col0\" class=\"data row4 col0\" >NHS Greater Glasgow and Clyde</td>\n",
       "      <td id=\"T_544d9_row4_col1\" class=\"data row4 col1\" >168.800748</td>\n",
       "    </tr>\n",
       "    <tr>\n",
       "      <td id=\"T_544d9_row5_col0\" class=\"data row5 col0\" >NHS Borders</td>\n",
       "      <td id=\"T_544d9_row5_col1\" class=\"data row5 col1\" >164.813609</td>\n",
       "    </tr>\n",
       "    <tr>\n",
       "      <td id=\"T_544d9_row6_col0\" class=\"data row6 col0\" >NHS Fife</td>\n",
       "      <td id=\"T_544d9_row6_col1\" class=\"data row6 col1\" >164.420714</td>\n",
       "    </tr>\n",
       "    <tr>\n",
       "      <td id=\"T_544d9_row7_col0\" class=\"data row7 col0\" >NHS Tayside</td>\n",
       "      <td id=\"T_544d9_row7_col1\" class=\"data row7 col1\" >163.422246</td>\n",
       "    </tr>\n",
       "    <tr>\n",
       "      <td id=\"T_544d9_row8_col0\" class=\"data row8 col0\" >NHS Highland</td>\n",
       "      <td id=\"T_544d9_row8_col1\" class=\"data row8 col1\" >162.503940</td>\n",
       "    </tr>\n",
       "    <tr>\n",
       "      <td id=\"T_544d9_row9_col0\" class=\"data row9 col0\" >NHS Ayrshire and Arran</td>\n",
       "      <td id=\"T_544d9_row9_col1\" class=\"data row9 col1\" >157.001853</td>\n",
       "    </tr>\n",
       "    <tr>\n",
       "      <td id=\"T_544d9_row10_col0\" class=\"data row10 col0\" >NHS Grampian</td>\n",
       "      <td id=\"T_544d9_row10_col1\" class=\"data row10 col1\" >156.298662</td>\n",
       "    </tr>\n",
       "  </tbody>\n",
       "</table>\n"
      ],
      "text/plain": [
       "<pandas.io.formats.style.Styler at 0x7ff12cb6eeb0>"
      ]
     },
     "execution_count": 125,
     "metadata": {},
     "output_type": "execute_result"
    }
   ],
   "source": [
    "(summary_merged[[\"hbname\", \"easr\"]]\n",
    ".rename(columns={\"hbname\":\"Health Board\"})\n",
    ".sort_values(\"easr\", ascending=False)\n",
    ".style.background_gradient(subset=[\"easr\"]).hide(axis=\"index\")\n",
    ")"
   ]
  },
  {
   "cell_type": "code",
   "execution_count": null,
   "id": "41b849ed",
   "metadata": {},
   "outputs": [],
   "source": []
  },
  {
   "cell_type": "code",
   "execution_count": null,
   "id": "4ca64b1f",
   "metadata": {},
   "outputs": [],
   "source": []
  }
 ],
 "metadata": {
  "kernelspec": {
   "display_name": "Python 3 (ipykernel)",
   "language": "python",
   "name": "python3"
  },
  "language_info": {
   "codemirror_mode": {
    "name": "ipython",
    "version": 3
   },
   "file_extension": ".py",
   "mimetype": "text/x-python",
   "name": "python",
   "nbconvert_exporter": "python",
   "pygments_lexer": "ipython3",
   "version": "3.9.13"
  }
 },
 "nbformat": 4,
 "nbformat_minor": 5
}
